{
  "nbformat": 4,
  "nbformat_minor": 0,
  "metadata": {
    "colab": {
      "provenance": []
    },
    "kernelspec": {
      "name": "python3",
      "display_name": "Python 3"
    },
    "language_info": {
      "name": "python"
    }
  },
  "cells": [
    {
      "cell_type": "code",
      "execution_count": 5,
      "metadata": {
        "id": "O21J5je_MpOy"
      },
      "outputs": [],
      "source": [
        "import pandas as pd"
      ]
    },
    {
      "cell_type": "code",
      "source": [
        "# Ask for input\n",
        "n = int(input(\"Enter a positive integer greater than 0: \"))"
      ],
      "metadata": {
        "colab": {
          "base_uri": "https://localhost:8080/"
        },
        "id": "5NIV4wQKMrla",
        "outputId": "90de4732-b969-49c9-8112-240c296e9834"
      },
      "execution_count": 1,
      "outputs": [
        {
          "name": "stdout",
          "output_type": "stream",
          "text": [
            "Enter a positive integer greater than 0: 4\n"
          ]
        }
      ]
    },
    {
      "cell_type": "code",
      "source": [
        "# Check input is valid\n",
        "if n <= 0:\n",
        "    print(\"Invalid input. Please enter a positive integer greater than 0.\")\n",
        "else:\n",
        "    even_seq = [2*i for i in range(n)]\n",
        "    odd_seq = [2*i+1 for i in range(n)]\n",
        "    fib_seq = [0, 1] + [0]*(n-2)\n",
        "    for i in range(2, n):\n",
        "        fib_seq[i] = fib_seq[i-1] + fib_seq[i-2]"
      ],
      "metadata": {
        "id": "fuFr5v3qMxwU"
      },
      "execution_count": 2,
      "outputs": []
    },
    {
      "cell_type": "code",
      "source": [
        "df = pd.DataFrame({'Even': even_seq, 'Odd': odd_seq, 'Fibonacci': fib_seq})\n",
        "print(df)"
      ],
      "metadata": {
        "colab": {
          "base_uri": "https://localhost:8080/"
        },
        "id": "PV0xvHFwNWxn",
        "outputId": "be086f27-1eb9-43f2-8dfb-f39f41389849"
      },
      "execution_count": 7,
      "outputs": [
        {
          "output_type": "stream",
          "name": "stdout",
          "text": [
            "   Even  Odd  Fibonacci\n",
            "0     0    1          0\n",
            "1     2    3          1\n",
            "2     4    5          1\n",
            "3     6    7          2\n"
          ]
        }
      ]
    }
  ]
}